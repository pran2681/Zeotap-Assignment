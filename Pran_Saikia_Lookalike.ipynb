{
  "nbformat": 4,
  "nbformat_minor": 0,
  "metadata": {
    "colab": {
      "provenance": [],
      "authorship_tag": "ABX9TyMt/5iwpoxNTt+oivLtRrPj",
      "include_colab_link": true
    },
    "kernelspec": {
      "name": "python3",
      "display_name": "Python 3"
    },
    "language_info": {
      "name": "python"
    }
  },
  "cells": [
    {
      "cell_type": "markdown",
      "metadata": {
        "id": "view-in-github",
        "colab_type": "text"
      },
      "source": [
        "<a href=\"https://colab.research.google.com/github/pran2681/Zeotap-Assignment/blob/main/Pran_Saikia_Lookalike.ipynb\" target=\"_parent\"><img src=\"https://colab.research.google.com/assets/colab-badge.svg\" alt=\"Open In Colab\"/></a>"
      ]
    },
    {
      "cell_type": "code",
      "execution_count": 18,
      "metadata": {
        "id": "UmozZWySp6jN"
      },
      "outputs": [],
      "source": [
        "import pandas as pd\n",
        "from sklearn.preprocessing import StandardScaler\n"
      ]
    },
    {
      "cell_type": "code",
      "source": [
        "customers = pd.read_csv('Customers.csv')\n",
        "products = pd.read_csv('Products.csv')\n",
        "transactions = pd.read_csv('Transactions.csv')"
      ],
      "metadata": {
        "id": "BHIX-iV5qNTC"
      },
      "execution_count": 19,
      "outputs": []
    },
    {
      "cell_type": "code",
      "source": [
        "merged_data = pd.merge(transactions, customers, on='CustomerID', how='left')"
      ],
      "metadata": {
        "id": "fPHg40I8qNVp"
      },
      "execution_count": 20,
      "outputs": []
    },
    {
      "cell_type": "code",
      "source": [
        "merged_data = pd.merge(merged_data, products[['ProductID', 'Category']], on='ProductID', how='left')"
      ],
      "metadata": {
        "id": "oca01BXHqNX7"
      },
      "execution_count": 21,
      "outputs": []
    },
    {
      "cell_type": "code",
      "source": [
        "customer_summary = merged_data.groupby('CustomerID').agg(\n",
        "    total_spend=('TotalValue', 'sum'),\n",
        "    transaction_count=('TransactionDate', 'count'),\n",
        "    product_categories=('Category', lambda x: list(x.unique()))\n",
        ").reset_index()"
      ],
      "metadata": {
        "id": "YDACOy68qNaO"
      },
      "execution_count": 22,
      "outputs": []
    },
    {
      "cell_type": "code",
      "source": [
        "scaler = StandardScaler()\n",
        "customer_summary[['total_spend', 'transaction_count']] = scaler.fit_transform(customer_summary[['total_spend', 'transaction_count']])\n"
      ],
      "metadata": {
        "id": "tySFaaVlqNci"
      },
      "execution_count": 23,
      "outputs": []
    },
    {
      "cell_type": "code",
      "source": [
        "customer_summary.head()\n"
      ],
      "metadata": {
        "colab": {
          "base_uri": "https://localhost:8080/",
          "height": 206
        },
        "id": "EDFMWo8yqNeL",
        "outputId": "d23ad8f0-b856-42a9-f0d1-81a2aa1f85b2"
      },
      "execution_count": 24,
      "outputs": [
        {
          "output_type": "execute_result",
          "data": {
            "text/plain": [
              "  CustomerID  total_spend  transaction_count  \\\n",
              "0      C0001    -0.061701          -0.011458   \n",
              "1      C0002    -0.877744          -0.467494   \n",
              "2      C0003    -0.405857          -0.467494   \n",
              "3      C0004     1.032547           1.356650   \n",
              "4      C0005    -0.783929          -0.923530   \n",
              "\n",
              "                    product_categories  \n",
              "0     [Books, Home Decor, Electronics]  \n",
              "1               [Home Decor, Clothing]  \n",
              "2  [Home Decor, Clothing, Electronics]  \n",
              "3     [Books, Home Decor, Electronics]  \n",
              "4            [Home Decor, Electronics]  "
            ],
            "text/html": [
              "\n",
              "  <div id=\"df-961422fd-b594-4525-9d24-93fdbe3df962\" class=\"colab-df-container\">\n",
              "    <div>\n",
              "<style scoped>\n",
              "    .dataframe tbody tr th:only-of-type {\n",
              "        vertical-align: middle;\n",
              "    }\n",
              "\n",
              "    .dataframe tbody tr th {\n",
              "        vertical-align: top;\n",
              "    }\n",
              "\n",
              "    .dataframe thead th {\n",
              "        text-align: right;\n",
              "    }\n",
              "</style>\n",
              "<table border=\"1\" class=\"dataframe\">\n",
              "  <thead>\n",
              "    <tr style=\"text-align: right;\">\n",
              "      <th></th>\n",
              "      <th>CustomerID</th>\n",
              "      <th>total_spend</th>\n",
              "      <th>transaction_count</th>\n",
              "      <th>product_categories</th>\n",
              "    </tr>\n",
              "  </thead>\n",
              "  <tbody>\n",
              "    <tr>\n",
              "      <th>0</th>\n",
              "      <td>C0001</td>\n",
              "      <td>-0.061701</td>\n",
              "      <td>-0.011458</td>\n",
              "      <td>[Books, Home Decor, Electronics]</td>\n",
              "    </tr>\n",
              "    <tr>\n",
              "      <th>1</th>\n",
              "      <td>C0002</td>\n",
              "      <td>-0.877744</td>\n",
              "      <td>-0.467494</td>\n",
              "      <td>[Home Decor, Clothing]</td>\n",
              "    </tr>\n",
              "    <tr>\n",
              "      <th>2</th>\n",
              "      <td>C0003</td>\n",
              "      <td>-0.405857</td>\n",
              "      <td>-0.467494</td>\n",
              "      <td>[Home Decor, Clothing, Electronics]</td>\n",
              "    </tr>\n",
              "    <tr>\n",
              "      <th>3</th>\n",
              "      <td>C0004</td>\n",
              "      <td>1.032547</td>\n",
              "      <td>1.356650</td>\n",
              "      <td>[Books, Home Decor, Electronics]</td>\n",
              "    </tr>\n",
              "    <tr>\n",
              "      <th>4</th>\n",
              "      <td>C0005</td>\n",
              "      <td>-0.783929</td>\n",
              "      <td>-0.923530</td>\n",
              "      <td>[Home Decor, Electronics]</td>\n",
              "    </tr>\n",
              "  </tbody>\n",
              "</table>\n",
              "</div>\n",
              "    <div class=\"colab-df-buttons\">\n",
              "\n",
              "  <div class=\"colab-df-container\">\n",
              "    <button class=\"colab-df-convert\" onclick=\"convertToInteractive('df-961422fd-b594-4525-9d24-93fdbe3df962')\"\n",
              "            title=\"Convert this dataframe to an interactive table.\"\n",
              "            style=\"display:none;\">\n",
              "\n",
              "  <svg xmlns=\"http://www.w3.org/2000/svg\" height=\"24px\" viewBox=\"0 -960 960 960\">\n",
              "    <path d=\"M120-120v-720h720v720H120Zm60-500h600v-160H180v160Zm220 220h160v-160H400v160Zm0 220h160v-160H400v160ZM180-400h160v-160H180v160Zm440 0h160v-160H620v160ZM180-180h160v-160H180v160Zm440 0h160v-160H620v160Z\"/>\n",
              "  </svg>\n",
              "    </button>\n",
              "\n",
              "  <style>\n",
              "    .colab-df-container {\n",
              "      display:flex;\n",
              "      gap: 12px;\n",
              "    }\n",
              "\n",
              "    .colab-df-convert {\n",
              "      background-color: #E8F0FE;\n",
              "      border: none;\n",
              "      border-radius: 50%;\n",
              "      cursor: pointer;\n",
              "      display: none;\n",
              "      fill: #1967D2;\n",
              "      height: 32px;\n",
              "      padding: 0 0 0 0;\n",
              "      width: 32px;\n",
              "    }\n",
              "\n",
              "    .colab-df-convert:hover {\n",
              "      background-color: #E2EBFA;\n",
              "      box-shadow: 0px 1px 2px rgba(60, 64, 67, 0.3), 0px 1px 3px 1px rgba(60, 64, 67, 0.15);\n",
              "      fill: #174EA6;\n",
              "    }\n",
              "\n",
              "    .colab-df-buttons div {\n",
              "      margin-bottom: 4px;\n",
              "    }\n",
              "\n",
              "    [theme=dark] .colab-df-convert {\n",
              "      background-color: #3B4455;\n",
              "      fill: #D2E3FC;\n",
              "    }\n",
              "\n",
              "    [theme=dark] .colab-df-convert:hover {\n",
              "      background-color: #434B5C;\n",
              "      box-shadow: 0px 1px 3px 1px rgba(0, 0, 0, 0.15);\n",
              "      filter: drop-shadow(0px 1px 2px rgba(0, 0, 0, 0.3));\n",
              "      fill: #FFFFFF;\n",
              "    }\n",
              "  </style>\n",
              "\n",
              "    <script>\n",
              "      const buttonEl =\n",
              "        document.querySelector('#df-961422fd-b594-4525-9d24-93fdbe3df962 button.colab-df-convert');\n",
              "      buttonEl.style.display =\n",
              "        google.colab.kernel.accessAllowed ? 'block' : 'none';\n",
              "\n",
              "      async function convertToInteractive(key) {\n",
              "        const element = document.querySelector('#df-961422fd-b594-4525-9d24-93fdbe3df962');\n",
              "        const dataTable =\n",
              "          await google.colab.kernel.invokeFunction('convertToInteractive',\n",
              "                                                    [key], {});\n",
              "        if (!dataTable) return;\n",
              "\n",
              "        const docLinkHtml = 'Like what you see? Visit the ' +\n",
              "          '<a target=\"_blank\" href=https://colab.research.google.com/notebooks/data_table.ipynb>data table notebook</a>'\n",
              "          + ' to learn more about interactive tables.';\n",
              "        element.innerHTML = '';\n",
              "        dataTable['output_type'] = 'display_data';\n",
              "        await google.colab.output.renderOutput(dataTable, element);\n",
              "        const docLink = document.createElement('div');\n",
              "        docLink.innerHTML = docLinkHtml;\n",
              "        element.appendChild(docLink);\n",
              "      }\n",
              "    </script>\n",
              "  </div>\n",
              "\n",
              "\n",
              "<div id=\"df-3cbc8e1c-4cfa-4e8a-8927-c94a7b7b614b\">\n",
              "  <button class=\"colab-df-quickchart\" onclick=\"quickchart('df-3cbc8e1c-4cfa-4e8a-8927-c94a7b7b614b')\"\n",
              "            title=\"Suggest charts\"\n",
              "            style=\"display:none;\">\n",
              "\n",
              "<svg xmlns=\"http://www.w3.org/2000/svg\" height=\"24px\"viewBox=\"0 0 24 24\"\n",
              "     width=\"24px\">\n",
              "    <g>\n",
              "        <path d=\"M19 3H5c-1.1 0-2 .9-2 2v14c0 1.1.9 2 2 2h14c1.1 0 2-.9 2-2V5c0-1.1-.9-2-2-2zM9 17H7v-7h2v7zm4 0h-2V7h2v10zm4 0h-2v-4h2v4z\"/>\n",
              "    </g>\n",
              "</svg>\n",
              "  </button>\n",
              "\n",
              "<style>\n",
              "  .colab-df-quickchart {\n",
              "      --bg-color: #E8F0FE;\n",
              "      --fill-color: #1967D2;\n",
              "      --hover-bg-color: #E2EBFA;\n",
              "      --hover-fill-color: #174EA6;\n",
              "      --disabled-fill-color: #AAA;\n",
              "      --disabled-bg-color: #DDD;\n",
              "  }\n",
              "\n",
              "  [theme=dark] .colab-df-quickchart {\n",
              "      --bg-color: #3B4455;\n",
              "      --fill-color: #D2E3FC;\n",
              "      --hover-bg-color: #434B5C;\n",
              "      --hover-fill-color: #FFFFFF;\n",
              "      --disabled-bg-color: #3B4455;\n",
              "      --disabled-fill-color: #666;\n",
              "  }\n",
              "\n",
              "  .colab-df-quickchart {\n",
              "    background-color: var(--bg-color);\n",
              "    border: none;\n",
              "    border-radius: 50%;\n",
              "    cursor: pointer;\n",
              "    display: none;\n",
              "    fill: var(--fill-color);\n",
              "    height: 32px;\n",
              "    padding: 0;\n",
              "    width: 32px;\n",
              "  }\n",
              "\n",
              "  .colab-df-quickchart:hover {\n",
              "    background-color: var(--hover-bg-color);\n",
              "    box-shadow: 0 1px 2px rgba(60, 64, 67, 0.3), 0 1px 3px 1px rgba(60, 64, 67, 0.15);\n",
              "    fill: var(--button-hover-fill-color);\n",
              "  }\n",
              "\n",
              "  .colab-df-quickchart-complete:disabled,\n",
              "  .colab-df-quickchart-complete:disabled:hover {\n",
              "    background-color: var(--disabled-bg-color);\n",
              "    fill: var(--disabled-fill-color);\n",
              "    box-shadow: none;\n",
              "  }\n",
              "\n",
              "  .colab-df-spinner {\n",
              "    border: 2px solid var(--fill-color);\n",
              "    border-color: transparent;\n",
              "    border-bottom-color: var(--fill-color);\n",
              "    animation:\n",
              "      spin 1s steps(1) infinite;\n",
              "  }\n",
              "\n",
              "  @keyframes spin {\n",
              "    0% {\n",
              "      border-color: transparent;\n",
              "      border-bottom-color: var(--fill-color);\n",
              "      border-left-color: var(--fill-color);\n",
              "    }\n",
              "    20% {\n",
              "      border-color: transparent;\n",
              "      border-left-color: var(--fill-color);\n",
              "      border-top-color: var(--fill-color);\n",
              "    }\n",
              "    30% {\n",
              "      border-color: transparent;\n",
              "      border-left-color: var(--fill-color);\n",
              "      border-top-color: var(--fill-color);\n",
              "      border-right-color: var(--fill-color);\n",
              "    }\n",
              "    40% {\n",
              "      border-color: transparent;\n",
              "      border-right-color: var(--fill-color);\n",
              "      border-top-color: var(--fill-color);\n",
              "    }\n",
              "    60% {\n",
              "      border-color: transparent;\n",
              "      border-right-color: var(--fill-color);\n",
              "    }\n",
              "    80% {\n",
              "      border-color: transparent;\n",
              "      border-right-color: var(--fill-color);\n",
              "      border-bottom-color: var(--fill-color);\n",
              "    }\n",
              "    90% {\n",
              "      border-color: transparent;\n",
              "      border-bottom-color: var(--fill-color);\n",
              "    }\n",
              "  }\n",
              "</style>\n",
              "\n",
              "  <script>\n",
              "    async function quickchart(key) {\n",
              "      const quickchartButtonEl =\n",
              "        document.querySelector('#' + key + ' button');\n",
              "      quickchartButtonEl.disabled = true;  // To prevent multiple clicks.\n",
              "      quickchartButtonEl.classList.add('colab-df-spinner');\n",
              "      try {\n",
              "        const charts = await google.colab.kernel.invokeFunction(\n",
              "            'suggestCharts', [key], {});\n",
              "      } catch (error) {\n",
              "        console.error('Error during call to suggestCharts:', error);\n",
              "      }\n",
              "      quickchartButtonEl.classList.remove('colab-df-spinner');\n",
              "      quickchartButtonEl.classList.add('colab-df-quickchart-complete');\n",
              "    }\n",
              "    (() => {\n",
              "      let quickchartButtonEl =\n",
              "        document.querySelector('#df-3cbc8e1c-4cfa-4e8a-8927-c94a7b7b614b button');\n",
              "      quickchartButtonEl.style.display =\n",
              "        google.colab.kernel.accessAllowed ? 'block' : 'none';\n",
              "    })();\n",
              "  </script>\n",
              "</div>\n",
              "\n",
              "    </div>\n",
              "  </div>\n"
            ],
            "application/vnd.google.colaboratory.intrinsic+json": {
              "type": "dataframe",
              "variable_name": "customer_summary",
              "summary": "{\n  \"name\": \"customer_summary\",\n  \"rows\": 199,\n  \"fields\": [\n    {\n      \"column\": \"CustomerID\",\n      \"properties\": {\n        \"dtype\": \"string\",\n        \"num_unique_values\": 199,\n        \"samples\": [\n          \"C0083\",\n          \"C0016\",\n          \"C0112\"\n        ],\n        \"semantic_type\": \"\",\n        \"description\": \"\"\n      }\n    },\n    {\n      \"column\": \"total_spend\",\n      \"properties\": {\n        \"dtype\": \"number\",\n        \"std\": 1.0025220721014099,\n        \"min\": -1.8516572730710743,\n        \"max\": 3.942171644490543,\n        \"num_unique_values\": 199,\n        \"samples\": [\n          -1.5450821503021555,\n          0.22269726987216107,\n          -0.8248078481448089\n        ],\n        \"semantic_type\": \"\",\n        \"description\": \"\"\n      }\n    },\n    {\n      \"column\": \"transaction_count\",\n      \"properties\": {\n        \"dtype\": \"number\",\n        \"std\": 1.0025220721014096,\n        \"min\": -1.8356019754494848,\n        \"max\": 2.7247574891503583,\n        \"num_unique_values\": 11,\n        \"samples\": [\n          0.900613703310421,\n          -0.011458189609547545,\n          1.8126855962303896\n        ],\n        \"semantic_type\": \"\",\n        \"description\": \"\"\n      }\n    },\n    {\n      \"column\": \"product_categories\",\n      \"properties\": {\n        \"dtype\": \"object\",\n        \"semantic_type\": \"\",\n        \"description\": \"\"\n      }\n    }\n  ]\n}"
            }
          },
          "metadata": {},
          "execution_count": 24
        }
      ]
    },
    {
      "cell_type": "code",
      "source": [],
      "metadata": {
        "id": "XzsCT0I_qNhJ"
      },
      "execution_count": 24,
      "outputs": []
    },
    {
      "cell_type": "markdown",
      "source": [
        "Similarity Calculation (Cosine Similarity)\n"
      ],
      "metadata": {
        "id": "aXhtZyDRrSp7"
      }
    },
    {
      "cell_type": "code",
      "source": [
        "from sklearn.metrics.pairwise import cosine_similarity"
      ],
      "metadata": {
        "id": "k0nMeWsmrPQ-"
      },
      "execution_count": 25,
      "outputs": []
    },
    {
      "source": [
        "categories = merged_data[['CustomerID', 'Category']].drop_duplicates()\n",
        "categories_encoded = pd.get_dummies(categories['Category'], prefix='Category')\n",
        "\n",
        "encoded_features = pd.merge(customer_summary[['CustomerID']].reset_index(drop=True), categories_encoded.reset_index(drop=True), left_index=True, right_index=True, how='left').drop(columns=['CustomerID'])\n",
        "\n",
        "final_features = pd.concat([customer_summary[['total_spend', 'transaction_count']], encoded_features], axis=1)\n",
        "\n",
        "similarity_matrix = cosine_similarity(final_features)\n",
        "\n",
        "similarity_matrix[:5, :5]"
      ],
      "cell_type": "code",
      "metadata": {
        "colab": {
          "base_uri": "https://localhost:8080/"
        },
        "id": "OGJsfF_jr3dn",
        "outputId": "7a504ccf-d748-476e-f557-6a486bacfb12"
      },
      "execution_count": 26,
      "outputs": [
        {
          "output_type": "execute_result",
          "data": {
            "text/plain": [
              "array([[ 1.        ,  0.74978673,  0.87437579,  0.46492596,  0.67281893],\n",
              "       [ 0.74978673,  1.        ,  0.94940858, -0.19391329,  0.95688917],\n",
              "       [ 0.87437579,  0.94940858,  1.        , -0.02292501,  0.94719033],\n",
              "       [ 0.46492596, -0.19391329, -0.02292501,  1.        , -0.34216919],\n",
              "       [ 0.67281893,  0.95688917,  0.94719033, -0.34216919,  1.        ]])"
            ]
          },
          "metadata": {},
          "execution_count": 26
        }
      ]
    },
    {
      "cell_type": "code",
      "source": [],
      "metadata": {
        "id": "alk_pvjyrXoz"
      },
      "execution_count": 26,
      "outputs": []
    },
    {
      "cell_type": "markdown",
      "source": [
        "Recommendation Generation"
      ],
      "metadata": {
        "id": "1lZzvNrOr-DO"
      }
    },
    {
      "cell_type": "code",
      "source": [
        "import numpy as np\n",
        "\n",
        "def get_top_3_similar_customers(customer_id, similarity_matrix, customer_ids):\n",
        "    customer_index = customer_ids.index(customer_id)\n",
        "    similarity_scores = similarity_matrix[customer_index]\n",
        "\n",
        "    top_3_indices = np.argsort(similarity_scores)[-4:-1]\n",
        "    top_3_customers = [(customer_ids[i], similarity_scores[i]) for i in top_3_indices]\n",
        "\n",
        "    return top_3_customers\n",
        "\n",
        "customer_ids = customer_summary['CustomerID'].tolist()\n",
        "\n",
        "recommendations = []\n",
        "\n",
        "for customer_id in customer_ids[:20]:\n",
        "    top_3 = get_top_3_similar_customers(customer_id, similarity_matrix, customer_ids)\n",
        "    recommendations.append([customer_id] + [item for sublist in top_3 for item in sublist])\n",
        "\n",
        "recommendations_df = pd.DataFrame(recommendations, columns=['CustomerID', 'Recommended_Customer1', 'Score1', 'Recommended_Customer2', 'Score2', 'Recommended_Customer3', 'Score3'])\n",
        "\n",
        "recommendations_df.head()\n",
        "\n",
        "recommendations_df.to_csv('Lookalike.csv', index=False)\n"
      ],
      "metadata": {
        "id": "6GebaBzjrXrQ"
      },
      "execution_count": 27,
      "outputs": []
    },
    {
      "cell_type": "code",
      "source": [],
      "metadata": {
        "id": "KFu8J7kBrXtx"
      },
      "execution_count": 27,
      "outputs": []
    },
    {
      "cell_type": "code",
      "source": [],
      "metadata": {
        "id": "8uVp4Qn-rXwe"
      },
      "execution_count": 27,
      "outputs": []
    }
  ]
}